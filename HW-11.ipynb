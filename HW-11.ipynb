{
 "cells": [
  {
   "cell_type": "code",
   "execution_count": 1,
   "metadata": {
    "colab": {
     "base_uri": "https://localhost:8080/"
    },
    "id": "y1OpaLr_i4H-",
    "outputId": "aaa1bee7-5523-4304-d90b-5c9fedc01b3c"
   },
   "outputs": [],
   "source": [
    "import numpy as np\n",
    "from tensorflow.keras.datasets import imdb\n",
    "from tensorflow.keras.preprocessing.sequence import pad_sequences\n",
    "from tensorflow.keras.models import Sequential\n",
    "from tensorflow.keras.layers import Embedding, SimpleRNN, LSTM, Bidirectional, Dense\n",
    "\n",
    "num_words = 10000\n",
    "maxlen = 200\n",
    "\n",
    "(X_train, y_train), (X_test, y_test) = imdb.load_data(num_words=num_words)\n",
    "X_train = pad_sequences(X_train, maxlen=maxlen)\n",
    "X_test = pad_sequences(X_test, maxlen=maxlen)"
   ]
  },
  {
   "cell_type": "markdown",
   "metadata": {
    "id": "i1PkgzO3qZBt"
   },
   "source": [
    "# RNN\n"
   ]
  },
  {
   "cell_type": "code",
   "execution_count": 2,
   "metadata": {
    "colab": {
     "base_uri": "https://localhost:8080/"
    },
    "id": "r-50-PzwqWub",
    "outputId": "315f76ab-e97a-4692-9b5f-229c45f1258f"
   },
   "outputs": [
    {
     "name": "stdout",
     "output_type": "stream",
     "text": [
      "Model: \"sequential\"\n",
      "_________________________________________________________________\n",
      " Layer (type)                Output Shape              Param #   \n",
      "=================================================================\n",
      " embedding (Embedding)       (None, None, 32)          320000    \n",
      "                                                                 \n",
      " simple_rnn (SimpleRNN)      (None, 64)                6208      \n",
      "                                                                 \n",
      " dense (Dense)               (None, 1)                 65        \n",
      "                                                                 \n",
      "=================================================================\n",
      "Total params: 326273 (1.24 MB)\n",
      "Trainable params: 326273 (1.24 MB)\n",
      "Non-trainable params: 0 (0.00 Byte)\n",
      "_________________________________________________________________\n"
     ]
    }
   ],
   "source": [
    "model_rnn = Sequential()\n",
    "model_rnn.add(Embedding(num_words, 32))\n",
    "model_rnn.add(SimpleRNN(64))\n",
    "model_rnn.add(Dense(1, activation='sigmoid'))\n",
    "\n",
    "model_rnn.compile(optimizer='adam', loss='binary_crossentropy', metrics=['accuracy'])\n",
    "\n",
    "model_rnn.summary()"
   ]
  },
  {
   "cell_type": "code",
   "execution_count": 3,
   "metadata": {
    "colab": {
     "base_uri": "https://localhost:8080/"
    },
    "id": "mvAu8UoSq2Y6",
    "outputId": "83c9e801-62e8-4a39-d9f0-3544f9a37693"
   },
   "outputs": [
    {
     "name": "stdout",
     "output_type": "stream",
     "text": [
      "Epoch 1/10\n",
      "196/196 [==============================] - 15s 68ms/step - loss: 0.6380 - accuracy: 0.6095 - val_loss: 0.5548 - val_accuracy: 0.7103\n",
      "Epoch 2/10\n",
      "196/196 [==============================] - 13s 67ms/step - loss: 0.3586 - accuracy: 0.8457 - val_loss: 0.3609 - val_accuracy: 0.8534\n",
      "Epoch 3/10\n",
      "196/196 [==============================] - 13s 67ms/step - loss: 0.2342 - accuracy: 0.9100 - val_loss: 0.4164 - val_accuracy: 0.8191\n",
      "Epoch 4/10\n",
      "196/196 [==============================] - 13s 69ms/step - loss: 0.1668 - accuracy: 0.9388 - val_loss: 0.5523 - val_accuracy: 0.7487\n",
      "Epoch 5/10\n",
      "196/196 [==============================] - 13s 66ms/step - loss: 0.1085 - accuracy: 0.9627 - val_loss: 0.5189 - val_accuracy: 0.8408\n",
      "Epoch 6/10\n",
      "196/196 [==============================] - 13s 67ms/step - loss: 0.0509 - accuracy: 0.9844 - val_loss: 0.6061 - val_accuracy: 0.8294\n",
      "Epoch 7/10\n",
      "196/196 [==============================] - 14s 71ms/step - loss: 0.0320 - accuracy: 0.9904 - val_loss: 0.6336 - val_accuracy: 0.8143\n",
      "Epoch 8/10\n",
      "196/196 [==============================] - 13s 69ms/step - loss: 0.0220 - accuracy: 0.9940 - val_loss: 0.7160 - val_accuracy: 0.8057\n",
      "Epoch 9/10\n",
      "196/196 [==============================] - 13s 69ms/step - loss: 0.0188 - accuracy: 0.9946 - val_loss: 0.7473 - val_accuracy: 0.8237\n",
      "Epoch 10/10\n",
      "196/196 [==============================] - 13s 68ms/step - loss: 0.0304 - accuracy: 0.9900 - val_loss: 0.7957 - val_accuracy: 0.8050\n",
      "Test Accuracy: 80.50%\n"
     ]
    }
   ],
   "source": [
    "model_rnn.fit(X_train, y_train, validation_data=(X_test, y_test), epochs=10, batch_size=128)\n",
    "\n",
    "loss, accuracy = model_rnn.evaluate(X_test, y_test, verbose=0)\n",
    "print('Test Accuracy: {:.2f}%'.format(accuracy * 100))"
   ]
  },
  {
   "cell_type": "markdown",
   "metadata": {
    "id": "7Tar_XUAqgrc"
   },
   "source": [
    "# LSTM"
   ]
  },
  {
   "cell_type": "code",
   "execution_count": 4,
   "metadata": {
    "colab": {
     "base_uri": "https://localhost:8080/"
    },
    "id": "cQqtk4ZpqhlU",
    "outputId": "1f7d1faf-f849-447e-dd1b-3ac026dd3654"
   },
   "outputs": [
    {
     "name": "stdout",
     "output_type": "stream",
     "text": [
      "Model: \"sequential_1\"\n",
      "_________________________________________________________________\n",
      " Layer (type)                Output Shape              Param #   \n",
      "=================================================================\n",
      " embedding_1 (Embedding)     (None, None, 32)          320000    \n",
      "                                                                 \n",
      " lstm (LSTM)                 (None, 64)                24832     \n",
      "                                                                 \n",
      " dense_1 (Dense)             (None, 1)                 65        \n",
      "                                                                 \n",
      "=================================================================\n",
      "Total params: 344897 (1.32 MB)\n",
      "Trainable params: 344897 (1.32 MB)\n",
      "Non-trainable params: 0 (0.00 Byte)\n",
      "_________________________________________________________________\n"
     ]
    }
   ],
   "source": [
    "model_lstm = Sequential()\n",
    "model_lstm.add(Embedding(num_words, 32))\n",
    "model_lstm.add(LSTM(64))\n",
    "model_lstm.add(Dense(1, activation='sigmoid'))\n",
    "\n",
    "model_lstm.compile(optimizer='adam', loss='binary_crossentropy', metrics=['accuracy'])\n",
    "\n",
    "model_lstm.summary()"
   ]
  },
  {
   "cell_type": "code",
   "execution_count": 5,
   "metadata": {
    "colab": {
     "base_uri": "https://localhost:8080/"
    },
    "id": "a7QIKUtRrEX6",
    "outputId": "a9366eb3-061f-467a-d319-8c786f146f09"
   },
   "outputs": [
    {
     "name": "stdout",
     "output_type": "stream",
     "text": [
      "Epoch 1/10\n",
      "196/196 [==============================] - 47s 226ms/step - loss: 0.4519 - accuracy: 0.7770 - val_loss: 0.3053 - val_accuracy: 0.8691\n",
      "Epoch 2/10\n",
      "196/196 [==============================] - 44s 224ms/step - loss: 0.2463 - accuracy: 0.9056 - val_loss: 0.3301 - val_accuracy: 0.8681\n",
      "Epoch 3/10\n",
      "196/196 [==============================] - 43s 221ms/step - loss: 0.1893 - accuracy: 0.9302 - val_loss: 0.3478 - val_accuracy: 0.8656\n",
      "Epoch 4/10\n",
      "196/196 [==============================] - 44s 223ms/step - loss: 0.1520 - accuracy: 0.9447 - val_loss: 0.3475 - val_accuracy: 0.8648\n",
      "Epoch 5/10\n",
      "196/196 [==============================] - 44s 225ms/step - loss: 0.1216 - accuracy: 0.9587 - val_loss: 0.4037 - val_accuracy: 0.8604\n",
      "Epoch 6/10\n",
      "196/196 [==============================] - 42s 216ms/step - loss: 0.1050 - accuracy: 0.9638 - val_loss: 0.4928 - val_accuracy: 0.8467\n",
      "Epoch 7/10\n",
      "196/196 [==============================] - 43s 221ms/step - loss: 0.0882 - accuracy: 0.9696 - val_loss: 0.4945 - val_accuracy: 0.8546\n",
      "Epoch 8/10\n",
      "196/196 [==============================] - 43s 221ms/step - loss: 0.0680 - accuracy: 0.9781 - val_loss: 0.4460 - val_accuracy: 0.8501\n",
      "Epoch 9/10\n",
      "196/196 [==============================] - 42s 215ms/step - loss: 0.0646 - accuracy: 0.9777 - val_loss: 0.6345 - val_accuracy: 0.8492\n",
      "Epoch 10/10\n",
      "196/196 [==============================] - 42s 216ms/step - loss: 0.0563 - accuracy: 0.9820 - val_loss: 0.5939 - val_accuracy: 0.8499\n",
      "Test Accuracy: 84.99%\n"
     ]
    }
   ],
   "source": [
    "model_lstm.fit(X_train, y_train, validation_data=(X_test, y_test), epochs=10, batch_size=128)\n",
    "\n",
    "loss, accuracy = model_lstm.evaluate(X_test, y_test, verbose=0)\n",
    "print('Test Accuracy: {:.2f}%'.format(accuracy * 100))\n"
   ]
  },
  {
   "cell_type": "markdown",
   "metadata": {
    "id": "u08IWCj9qkoL"
   },
   "source": [
    "# Bidirectional"
   ]
  },
  {
   "cell_type": "code",
   "execution_count": 6,
   "metadata": {
    "colab": {
     "base_uri": "https://localhost:8080/"
    },
    "id": "YGsmORH6qpNj",
    "outputId": "d676ce95-6ba6-46ff-c487-e3dbbbaf3f4b"
   },
   "outputs": [
    {
     "name": "stdout",
     "output_type": "stream",
     "text": [
      "Model: \"sequential_2\"\n",
      "_________________________________________________________________\n",
      " Layer (type)                Output Shape              Param #   \n",
      "=================================================================\n",
      " embedding_2 (Embedding)     (None, None, 32)          320000    \n",
      "                                                                 \n",
      " bidirectional (Bidirection  (None, 128)               49664     \n",
      " al)                                                             \n",
      "                                                                 \n",
      " dense_2 (Dense)             (None, 1)                 129       \n",
      "                                                                 \n",
      "=================================================================\n",
      "Total params: 369793 (1.41 MB)\n",
      "Trainable params: 369793 (1.41 MB)\n",
      "Non-trainable params: 0 (0.00 Byte)\n",
      "_________________________________________________________________\n"
     ]
    }
   ],
   "source": [
    "model_bidirectional = Sequential()\n",
    "model_bidirectional.add(Embedding(num_words, 32))\n",
    "model_bidirectional.add(Bidirectional(LSTM(64)))\n",
    "model_bidirectional.add(Dense(1, activation='sigmoid'))\n",
    "\n",
    "model_bidirectional.compile(optimizer='adam', loss='binary_crossentropy', metrics=['accuracy'])\n",
    "\n",
    "model_bidirectional.summary()"
   ]
  },
  {
   "cell_type": "code",
   "execution_count": 7,
   "metadata": {
    "colab": {
     "base_uri": "https://localhost:8080/"
    },
    "id": "OZ5KBOXqrIN_",
    "outputId": "a1c1810a-232f-4965-c84c-439df1c6d75a"
   },
   "outputs": [
    {
     "name": "stdout",
     "output_type": "stream",
     "text": [
      "Epoch 1/10\n",
      "196/196 [==============================] - 74s 359ms/step - loss: 0.4466 - accuracy: 0.7789 - val_loss: 0.3147 - val_accuracy: 0.8666\n",
      "Epoch 2/10\n",
      "196/196 [==============================] - 71s 361ms/step - loss: 0.2377 - accuracy: 0.9079 - val_loss: 0.3504 - val_accuracy: 0.8554\n",
      "Epoch 3/10\n",
      "196/196 [==============================] - 72s 366ms/step - loss: 0.1925 - accuracy: 0.9293 - val_loss: 0.3160 - val_accuracy: 0.8644\n",
      "Epoch 4/10\n",
      "196/196 [==============================] - 70s 358ms/step - loss: 0.1444 - accuracy: 0.9476 - val_loss: 0.3481 - val_accuracy: 0.8636\n",
      "Epoch 5/10\n",
      "196/196 [==============================] - 71s 362ms/step - loss: 0.1159 - accuracy: 0.9604 - val_loss: 0.4646 - val_accuracy: 0.8594\n",
      "Epoch 6/10\n",
      "196/196 [==============================] - 71s 364ms/step - loss: 0.0949 - accuracy: 0.9679 - val_loss: 0.4586 - val_accuracy: 0.8561\n",
      "Epoch 7/10\n",
      "196/196 [==============================] - 70s 358ms/step - loss: 0.0819 - accuracy: 0.9734 - val_loss: 0.5041 - val_accuracy: 0.8572\n",
      "Epoch 8/10\n",
      "196/196 [==============================] - 70s 360ms/step - loss: 0.0691 - accuracy: 0.9772 - val_loss: 0.5052 - val_accuracy: 0.8546\n",
      "Epoch 9/10\n",
      "196/196 [==============================] - 77s 392ms/step - loss: 0.0567 - accuracy: 0.9815 - val_loss: 0.6145 - val_accuracy: 0.8439\n",
      "Epoch 10/10\n",
      "196/196 [==============================] - 72s 369ms/step - loss: 0.0627 - accuracy: 0.9795 - val_loss: 0.6842 - val_accuracy: 0.8477\n",
      "Test Accuracy: 84.77%\n"
     ]
    }
   ],
   "source": [
    "model_bidirectional.fit(X_train, y_train, validation_data=(X_test, y_test), epochs=10, batch_size=128)\n",
    "\n",
    "loss, accuracy = model_bidirectional.evaluate(X_test, y_test, verbose=0)\n",
    "print('Test Accuracy: {:.2f}%'.format(accuracy * 100))"
   ]
  },
  {
   "cell_type": "markdown",
   "metadata": {
    "id": "g6G_CA_vqtAj"
   },
   "source": [
    "# Deep\n"
   ]
  },
  {
   "cell_type": "code",
   "execution_count": 8,
   "metadata": {
    "colab": {
     "base_uri": "https://localhost:8080/"
    },
    "id": "s08wXirYqwrL",
    "outputId": "b07fc52a-05b6-4c5b-ad17-5632d3405acd"
   },
   "outputs": [
    {
     "name": "stdout",
     "output_type": "stream",
     "text": [
      "Model: \"sequential_3\"\n",
      "_________________________________________________________________\n",
      " Layer (type)                Output Shape              Param #   \n",
      "=================================================================\n",
      " embedding_3 (Embedding)     (None, None, 32)          320000    \n",
      "                                                                 \n",
      " lstm_2 (LSTM)               (None, None, 64)          24832     \n",
      "                                                                 \n",
      " lstm_3 (LSTM)               (None, 64)                33024     \n",
      "                                                                 \n",
      " dense_3 (Dense)             (None, 1)                 65        \n",
      "                                                                 \n",
      "=================================================================\n",
      "Total params: 377921 (1.44 MB)\n",
      "Trainable params: 377921 (1.44 MB)\n",
      "Non-trainable params: 0 (0.00 Byte)\n",
      "_________________________________________________________________\n"
     ]
    }
   ],
   "source": [
    "model_deep = Sequential()\n",
    "model_deep.add(Embedding(num_words, 32))\n",
    "model_deep.add(LSTM(64, return_sequences=True))\n",
    "model_deep.add(LSTM(64))\n",
    "model_deep.add(Dense(1, activation='sigmoid'))\n",
    "\n",
    "model_deep.compile(optimizer='adam', loss='binary_crossentropy', metrics=['accuracy'])\n",
    "\n",
    "model_deep.summary()"
   ]
  },
  {
   "cell_type": "code",
   "execution_count": 9,
   "metadata": {
    "colab": {
     "base_uri": "https://localhost:8080/"
    },
    "id": "dHGnVdimrLSR",
    "outputId": "38074ea2-d324-43e9-c9e6-55571b93db94"
   },
   "outputs": [
    {
     "name": "stdout",
     "output_type": "stream",
     "text": [
      "Epoch 1/10\n",
      "196/196 [==============================] - 104s 507ms/step - loss: 0.4488 - accuracy: 0.7785 - val_loss: 0.3334 - val_accuracy: 0.8567\n",
      "Epoch 2/10\n",
      "196/196 [==============================] - 98s 499ms/step - loss: 0.2430 - accuracy: 0.9061 - val_loss: 0.3297 - val_accuracy: 0.8601\n",
      "Epoch 3/10\n",
      "196/196 [==============================] - 99s 507ms/step - loss: 0.1852 - accuracy: 0.9314 - val_loss: 0.4426 - val_accuracy: 0.8458\n",
      "Epoch 4/10\n",
      "196/196 [==============================] - 97s 496ms/step - loss: 0.1482 - accuracy: 0.9466 - val_loss: 0.3739 - val_accuracy: 0.8566\n",
      "Epoch 5/10\n",
      "196/196 [==============================] - 99s 503ms/step - loss: 0.1125 - accuracy: 0.9600 - val_loss: 0.3768 - val_accuracy: 0.8598\n",
      "Epoch 6/10\n",
      "196/196 [==============================] - 98s 499ms/step - loss: 0.0785 - accuracy: 0.9746 - val_loss: 0.5014 - val_accuracy: 0.8515\n",
      "Epoch 7/10\n",
      "196/196 [==============================] - 99s 507ms/step - loss: 0.0595 - accuracy: 0.9811 - val_loss: 0.5040 - val_accuracy: 0.8489\n",
      "Epoch 8/10\n",
      "196/196 [==============================] - 100s 508ms/step - loss: 0.0663 - accuracy: 0.9770 - val_loss: 0.5023 - val_accuracy: 0.8478\n",
      "Epoch 9/10\n",
      "196/196 [==============================] - 100s 510ms/step - loss: 0.0455 - accuracy: 0.9851 - val_loss: 0.6626 - val_accuracy: 0.8494\n",
      "Epoch 10/10\n",
      "196/196 [==============================] - 100s 513ms/step - loss: 0.0309 - accuracy: 0.9907 - val_loss: 0.6817 - val_accuracy: 0.8500\n",
      "Test Accuracy: 85.00%\n"
     ]
    }
   ],
   "source": [
    "model_deep.fit(X_train, y_train, validation_data=(X_test, y_test), epochs=10, batch_size=128)\n",
    "\n",
    "loss, accuracy = model_deep.evaluate(X_test, y_test, verbose=0)\n",
    "print('Test Accuracy: {:.2f}%'.format(accuracy * 100))"
   ]
  },
  {
   "cell_type": "markdown",
   "metadata": {
    "id": "C2nhroj5X_ED"
   },
   "source": [
    "# Conclusions"
   ]
  },
  {
   "cell_type": "code",
   "execution_count": 10,
   "metadata": {},
   "outputs": [],
   "source": [
    "# RNN accuracy = 80.5%\n",
    "# LSTM accuracy = 85.0%\n",
    "# Bidirectional accuracy = 84.7%\n",
    "# Deep accuracy = 85.%"
   ]
  },
  {
   "cell_type": "code",
   "execution_count": null,
   "metadata": {},
   "outputs": [],
   "source": []
  }
 ],
 "metadata": {
  "colab": {
   "provenance": []
  },
  "kernelspec": {
   "display_name": "Python 3 (ipykernel)",
   "language": "python",
   "name": "python3"
  },
  "language_info": {
   "codemirror_mode": {
    "name": "ipython",
    "version": 3
   },
   "file_extension": ".py",
   "mimetype": "text/x-python",
   "name": "python",
   "nbconvert_exporter": "python",
   "pygments_lexer": "ipython3",
   "version": "3.11.1"
  }
 },
 "nbformat": 4,
 "nbformat_minor": 4
}
